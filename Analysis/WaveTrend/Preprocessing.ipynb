{
 "cells": [
  {
   "cell_type": "code",
   "execution_count": 58,
   "id": "cutting-manner",
   "metadata": {},
   "outputs": [],
   "source": [
    "import pandas as pd\n",
    "import matplotlib.pyplot as plt\n",
    "from sklearn.preprocessing import PolynomialFeatures\n",
    "from datetime import timedelta\n",
    "from datetime import datetime\n",
    "from sklearn import linear_model"
   ]
  },
  {
   "cell_type": "code",
   "execution_count": 59,
   "id": "expanded-tunisia",
   "metadata": {},
   "outputs": [],
   "source": [
    "results = pd.read_csv('../../Data/ResultData/ADAUSDT_7_5_wave_trend_results.csv')"
   ]
  },
  {
   "cell_type": "code",
   "execution_count": 60,
   "id": "informational-vacuum",
   "metadata": {},
   "outputs": [
    {
     "data": {
      "text/html": [
       "<div>\n",
       "<style scoped>\n",
       "    .dataframe tbody tr th:only-of-type {\n",
       "        vertical-align: middle;\n",
       "    }\n",
       "\n",
       "    .dataframe tbody tr th {\n",
       "        vertical-align: top;\n",
       "    }\n",
       "\n",
       "    .dataframe thead th {\n",
       "        text-align: right;\n",
       "    }\n",
       "</style>\n",
       "<table border=\"1\" class=\"dataframe\">\n",
       "  <thead>\n",
       "    <tr style=\"text-align: right;\">\n",
       "      <th></th>\n",
       "      <th>symbol</th>\n",
       "      <th>indicator</th>\n",
       "      <th>start_date</th>\n",
       "      <th>end_date</th>\n",
       "      <th>ob_level</th>\n",
       "      <th>os_level</th>\n",
       "      <th>k</th>\n",
       "      <th>mean</th>\n",
       "      <th>std</th>\n",
       "      <th>skewness</th>\n",
       "      <th>kurtosis</th>\n",
       "      <th>entropy</th>\n",
       "      <th>n_total_partitions</th>\n",
       "      <th>n_partitions</th>\n",
       "      <th>clean_gains</th>\n",
       "    </tr>\n",
       "  </thead>\n",
       "  <tbody>\n",
       "    <tr>\n",
       "      <th>0</th>\n",
       "      <td>ADA/USDT</td>\n",
       "      <td>wave_trend</td>\n",
       "      <td>2020-09-12 00:01:00</td>\n",
       "      <td>2020-09-19 00:00:00</td>\n",
       "      <td>43</td>\n",
       "      <td>-63</td>\n",
       "      <td>0.001</td>\n",
       "      <td>0.09428</td>\n",
       "      <td>0.002346</td>\n",
       "      <td>0.055612</td>\n",
       "      <td>-0.985233</td>\n",
       "      <td>9.217999</td>\n",
       "      <td>68</td>\n",
       "      <td>8</td>\n",
       "      <td>0.157059</td>\n",
       "    </tr>\n",
       "    <tr>\n",
       "      <th>1</th>\n",
       "      <td>ADA/USDT</td>\n",
       "      <td>wave_trend</td>\n",
       "      <td>2020-09-12 00:01:00</td>\n",
       "      <td>2020-09-19 00:00:00</td>\n",
       "      <td>43</td>\n",
       "      <td>-63</td>\n",
       "      <td>0.002</td>\n",
       "      <td>0.09428</td>\n",
       "      <td>0.002346</td>\n",
       "      <td>0.055612</td>\n",
       "      <td>-0.985233</td>\n",
       "      <td>9.217999</td>\n",
       "      <td>63</td>\n",
       "      <td>7</td>\n",
       "      <td>-0.549170</td>\n",
       "    </tr>\n",
       "    <tr>\n",
       "      <th>2</th>\n",
       "      <td>ADA/USDT</td>\n",
       "      <td>wave_trend</td>\n",
       "      <td>2020-09-12 00:01:00</td>\n",
       "      <td>2020-09-19 00:00:00</td>\n",
       "      <td>43</td>\n",
       "      <td>-63</td>\n",
       "      <td>0.003</td>\n",
       "      <td>0.09428</td>\n",
       "      <td>0.002346</td>\n",
       "      <td>0.055612</td>\n",
       "      <td>-0.985233</td>\n",
       "      <td>9.217999</td>\n",
       "      <td>58</td>\n",
       "      <td>8</td>\n",
       "      <td>-0.402883</td>\n",
       "    </tr>\n",
       "    <tr>\n",
       "      <th>3</th>\n",
       "      <td>ADA/USDT</td>\n",
       "      <td>wave_trend</td>\n",
       "      <td>2020-09-12 00:01:00</td>\n",
       "      <td>2020-09-19 00:00:00</td>\n",
       "      <td>43</td>\n",
       "      <td>-63</td>\n",
       "      <td>0.004</td>\n",
       "      <td>0.09428</td>\n",
       "      <td>0.002346</td>\n",
       "      <td>0.055612</td>\n",
       "      <td>-0.985233</td>\n",
       "      <td>9.217999</td>\n",
       "      <td>54</td>\n",
       "      <td>7</td>\n",
       "      <td>0.040878</td>\n",
       "    </tr>\n",
       "    <tr>\n",
       "      <th>4</th>\n",
       "      <td>ADA/USDT</td>\n",
       "      <td>wave_trend</td>\n",
       "      <td>2020-09-12 00:01:00</td>\n",
       "      <td>2020-09-19 00:00:00</td>\n",
       "      <td>43</td>\n",
       "      <td>-63</td>\n",
       "      <td>0.005</td>\n",
       "      <td>0.09428</td>\n",
       "      <td>0.002346</td>\n",
       "      <td>0.055612</td>\n",
       "      <td>-0.985233</td>\n",
       "      <td>9.217999</td>\n",
       "      <td>49</td>\n",
       "      <td>6</td>\n",
       "      <td>-0.097212</td>\n",
       "    </tr>\n",
       "  </tbody>\n",
       "</table>\n",
       "</div>"
      ],
      "text/plain": [
       "     symbol   indicator           start_date             end_date  ob_level  \\\n",
       "0  ADA/USDT  wave_trend  2020-09-12 00:01:00  2020-09-19 00:00:00        43   \n",
       "1  ADA/USDT  wave_trend  2020-09-12 00:01:00  2020-09-19 00:00:00        43   \n",
       "2  ADA/USDT  wave_trend  2020-09-12 00:01:00  2020-09-19 00:00:00        43   \n",
       "3  ADA/USDT  wave_trend  2020-09-12 00:01:00  2020-09-19 00:00:00        43   \n",
       "4  ADA/USDT  wave_trend  2020-09-12 00:01:00  2020-09-19 00:00:00        43   \n",
       "\n",
       "   os_level      k     mean       std  skewness  kurtosis   entropy  \\\n",
       "0       -63  0.001  0.09428  0.002346  0.055612 -0.985233  9.217999   \n",
       "1       -63  0.002  0.09428  0.002346  0.055612 -0.985233  9.217999   \n",
       "2       -63  0.003  0.09428  0.002346  0.055612 -0.985233  9.217999   \n",
       "3       -63  0.004  0.09428  0.002346  0.055612 -0.985233  9.217999   \n",
       "4       -63  0.005  0.09428  0.002346  0.055612 -0.985233  9.217999   \n",
       "\n",
       "   n_total_partitions  n_partitions  clean_gains  \n",
       "0                  68             8     0.157059  \n",
       "1                  63             7    -0.549170  \n",
       "2                  58             8    -0.402883  \n",
       "3                  54             7     0.040878  \n",
       "4                  49             6    -0.097212  "
      ]
     },
     "execution_count": 60,
     "metadata": {},
     "output_type": "execute_result"
    }
   ],
   "source": [
    "results.head()"
   ]
  },
  {
   "cell_type": "code",
   "execution_count": 61,
   "id": "objective-happening",
   "metadata": {},
   "outputs": [
    {
     "data": {
      "text/plain": [
       "array([[<AxesSubplot:title={'center':'clean_gains'}>]], dtype=object)"
      ]
     },
     "execution_count": 61,
     "metadata": {},
     "output_type": "execute_result"
    },
    {
     "data": {
      "image/png": "[encoded data removed]",
      "text/plain": [
       "<Figure size 432x288 with 1 Axes>"
      ]
     },
     "metadata": {
      "needs_background": "light"
     },
     "output_type": "display_data"
    }
   ],
   "source": [
    "positive_results = results[results['clean_gains'] > 0]\n",
    "positive_results.hist(column = 'clean_gains')"
   ]
  },
  {
   "cell_type": "markdown",
   "id": "powerful-count",
   "metadata": {},
   "source": [
    "For each time frame:\n",
    "* Build ML models\n",
    "* Perform t-test and select model\n",
    "* Store optimal values in dataset if the R^2 is greater than 0.8"
   ]
  },
  {
   "cell_type": "markdown",
   "id": "proof-receiver",
   "metadata": {},
   "source": [
    "ML algorithms used:\n",
    "* Linear regression\n",
    "* Polinomial regression (order: 2)\n",
    "* Polinomial regression (order: 3)\n",
    "* Ridge regression\n",
    "* Lasso regression\n",
    "* ElasticNet"
   ]
  },
  {
   "cell_type": "code",
   "execution_count": 62,
   "id": "laden-element",
   "metadata": {},
   "outputs": [],
   "source": [
    "# filter data frame\n",
    "df = results[results['clean_gains'] > 0]\n",
    "start_date = df.iloc[0]['start_date']\n",
    "start_date = datetime.strptime(start_date, '%Y-%m-%d %H:%M:%S')\n",
    "end_date = start_date + timedelta(days = 7)\n",
    "df = df[(df['start_date'] >= str(start_date)) & (df['end_date'] < str(end_date))]\n",
    "df = df.sample(frac=1)"
   ]
  },
  {
   "cell_type": "code",
   "execution_count": 63,
   "id": "general-slovakia",
   "metadata": {},
   "outputs": [],
   "source": [
    "X = df['k']\n",
    "y = df['clean_gains']"
   ]
  },
  {
   "cell_type": "code",
   "execution_count": 64,
   "id": "martial-apache",
   "metadata": {},
   "outputs": [
    {
     "data": {
      "text/plain": [
       "<matplotlib.collections.PathCollection at 0x20166f40358>"
      ]
     },
     "execution_count": 64,
     "metadata": {},
     "output_type": "execute_result"
    },
    {
     "data": {
      "image/png": "[encoded data removed]",
      "text/plain": [
       "<Figure size 432x288 with 1 Axes>"
      ]
     },
     "metadata": {
      "needs_background": "light"
     },
     "output_type": "display_data"
    }
   ],
   "source": [
    "plt.scatter(X, y)"
   ]
  },
  {
   "cell_type": "code",
   "execution_count": 44,
   "id": "color-legislation",
   "metadata": {},
   "outputs": [
    {
     "data": {
      "text/plain": [
       "<matplotlib.collections.PathCollection at 0x20165a08cf8>"
      ]
     },
     "execution_count": 44,
     "metadata": {},
     "output_type": "execute_result"
    },
    {
     "data": {
      "image/png": "[encoded data removed]",
      "text/plain": [
       "<Figure size 432x288 with 1 Axes>"
      ]
     },
     "metadata": {
      "needs_background": "light"
     },
     "output_type": "display_data"
    }
   ],
   "source": [
    "regr = linear_model.LinearRegression()\n",
    "\n",
    "regr.fit(diabetes_X_train, diabetes_y_train)\n",
    "\n"
   ]
  },
  {
   "cell_type": "code",
   "execution_count": null,
   "id": "innocent-recruitment",
   "metadata": {},
   "outputs": [],
   "source": []
  },
  {
   "cell_type": "code",
   "execution_count": 9,
   "id": "mobile-adjustment",
   "metadata": {},
   "outputs": [
    {
     "ename": "TypeError",
     "evalue": "fit_transform() missing 1 required positional argument: 'X'",
     "output_type": "error",
     "traceback": [
      "\u001b[1;31m---------------------------------------------------------------------------\u001b[0m",
      "\u001b[1;31mTypeError\u001b[0m                                 Traceback (most recent call last)",
      "\u001b[1;32m<ipython-input-9-fa5cd4a4b5b0>\u001b[0m in \u001b[0;36m<module>\u001b[1;34m\u001b[0m\n\u001b[0;32m      1\u001b[0m \u001b[0mpoly\u001b[0m \u001b[1;33m=\u001b[0m \u001b[0mPolynomialFeatures\u001b[0m\u001b[1;33m(\u001b[0m\u001b[1;36m2\u001b[0m\u001b[1;33m)\u001b[0m\u001b[1;33m\u001b[0m\u001b[1;33m\u001b[0m\u001b[0m\n\u001b[1;32m----> 2\u001b[1;33m \u001b[0mpoly\u001b[0m\u001b[1;33m.\u001b[0m\u001b[0mfit_transform\u001b[0m\u001b[1;33m(\u001b[0m\u001b[1;33m)\u001b[0m\u001b[1;33m\u001b[0m\u001b[1;33m\u001b[0m\u001b[0m\n\u001b[0m",
      "\u001b[1;31mTypeError\u001b[0m: fit_transform() missing 1 required positional argument: 'X'"
     ]
    }
   ],
   "source": [
    "poly = PolynomialFeatures(2)\n",
    "poly.fit_transform()"
   ]
  },
  {
   "cell_type": "code",
   "execution_count": null,
   "id": "empirical-orleans",
   "metadata": {},
   "outputs": [],
   "source": []
  }
 ],
 "metadata": {
  "kernelspec": {
   "display_name": "Python 3",
   "language": "python",
   "name": "python3"
  },
  "language_info": {
   "codemirror_mode": {
    "name": "ipython",
    "version": 3
   },
   "file_extension": ".py",
   "mimetype": "text/x-python",
   "name": "python",
   "nbconvert_exporter": "python",
   "pygments_lexer": "ipython3",
   "version": "3.7.3"
  }
 },
 "nbformat": 4,
 "nbformat_minor": 5
}
