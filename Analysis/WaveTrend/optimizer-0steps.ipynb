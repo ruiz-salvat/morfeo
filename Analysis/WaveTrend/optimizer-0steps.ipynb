{
 "cells": [
  {
   "cell_type": "code",
   "execution_count": 8,
   "id": "bottom-experiment",
   "metadata": {},
   "outputs": [],
   "source": [
    "import pandas as pd\n",
    "from datetime import datetime, timedelta"
   ]
  },
  {
   "cell_type": "code",
   "execution_count": 9,
   "id": "endless-speed",
   "metadata": {},
   "outputs": [],
   "source": [
    "results = pd.read_csv('../../Data/ResultData/ADAUSDT_7_5_wave_trend_results.csv')"
   ]
  },
  {
   "cell_type": "code",
   "execution_count": 10,
   "id": "convinced-dollar",
   "metadata": {},
   "outputs": [
    {
     "data": {
      "text/html": [
       "<div>\n",
       "<style scoped>\n",
       "    .dataframe tbody tr th:only-of-type {\n",
       "        vertical-align: middle;\n",
       "    }\n",
       "\n",
       "    .dataframe tbody tr th {\n",
       "        vertical-align: top;\n",
       "    }\n",
       "\n",
       "    .dataframe thead th {\n",
       "        text-align: right;\n",
       "    }\n",
       "</style>\n",
       "<table border=\"1\" class=\"dataframe\">\n",
       "  <thead>\n",
       "    <tr style=\"text-align: right;\">\n",
       "      <th></th>\n",
       "      <th>symbol</th>\n",
       "      <th>indicator</th>\n",
       "      <th>start_date</th>\n",
       "      <th>end_date</th>\n",
       "      <th>ob_level</th>\n",
       "      <th>os_level</th>\n",
       "      <th>k</th>\n",
       "      <th>mean</th>\n",
       "      <th>std</th>\n",
       "      <th>skewness</th>\n",
       "      <th>kurtosis</th>\n",
       "      <th>entropy</th>\n",
       "      <th>n_total_partitions</th>\n",
       "      <th>n_partitions</th>\n",
       "      <th>clean_gains</th>\n",
       "    </tr>\n",
       "  </thead>\n",
       "  <tbody>\n",
       "    <tr>\n",
       "      <th>0</th>\n",
       "      <td>ADA/USDT</td>\n",
       "      <td>wave_trend</td>\n",
       "      <td>2020-09-12 00:01:00</td>\n",
       "      <td>2020-09-19 00:00:00</td>\n",
       "      <td>43</td>\n",
       "      <td>-63</td>\n",
       "      <td>0.001</td>\n",
       "      <td>0.094280</td>\n",
       "      <td>0.002346</td>\n",
       "      <td>0.055612</td>\n",
       "      <td>-0.985233</td>\n",
       "      <td>9.217999</td>\n",
       "      <td>68</td>\n",
       "      <td>8</td>\n",
       "      <td>0.157059</td>\n",
       "    </tr>\n",
       "    <tr>\n",
       "      <th>1</th>\n",
       "      <td>ADA/USDT</td>\n",
       "      <td>wave_trend</td>\n",
       "      <td>2020-10-03 00:01:00</td>\n",
       "      <td>2020-10-10 00:00:00</td>\n",
       "      <td>43</td>\n",
       "      <td>-63</td>\n",
       "      <td>0.001</td>\n",
       "      <td>0.095097</td>\n",
       "      <td>0.002326</td>\n",
       "      <td>0.409831</td>\n",
       "      <td>-0.210873</td>\n",
       "      <td>9.218010</td>\n",
       "      <td>75</td>\n",
       "      <td>11</td>\n",
       "      <td>4.233419</td>\n",
       "    </tr>\n",
       "    <tr>\n",
       "      <th>2</th>\n",
       "      <td>ADA/USDT</td>\n",
       "      <td>wave_trend</td>\n",
       "      <td>2020-09-19 00:01:00</td>\n",
       "      <td>2020-09-26 00:00:00</td>\n",
       "      <td>43</td>\n",
       "      <td>-63</td>\n",
       "      <td>0.002</td>\n",
       "      <td>0.085529</td>\n",
       "      <td>0.005681</td>\n",
       "      <td>0.283234</td>\n",
       "      <td>-1.222078</td>\n",
       "      <td>9.216114</td>\n",
       "      <td>62</td>\n",
       "      <td>2</td>\n",
       "      <td>1.832861</td>\n",
       "    </tr>\n",
       "    <tr>\n",
       "      <th>3</th>\n",
       "      <td>ADA/USDT</td>\n",
       "      <td>wave_trend</td>\n",
       "      <td>2020-10-24 00:01:00</td>\n",
       "      <td>2020-10-31 00:00:00</td>\n",
       "      <td>43</td>\n",
       "      <td>-63</td>\n",
       "      <td>0.001</td>\n",
       "      <td>0.102092</td>\n",
       "      <td>0.005335</td>\n",
       "      <td>-0.429036</td>\n",
       "      <td>-1.028970</td>\n",
       "      <td>9.216932</td>\n",
       "      <td>83</td>\n",
       "      <td>36</td>\n",
       "      <td>-13.175106</td>\n",
       "    </tr>\n",
       "    <tr>\n",
       "      <th>4</th>\n",
       "      <td>ADA/USDT</td>\n",
       "      <td>wave_trend</td>\n",
       "      <td>2020-10-03 00:01:00</td>\n",
       "      <td>2020-10-10 00:00:00</td>\n",
       "      <td>43</td>\n",
       "      <td>-63</td>\n",
       "      <td>0.002</td>\n",
       "      <td>0.095097</td>\n",
       "      <td>0.002326</td>\n",
       "      <td>0.409831</td>\n",
       "      <td>-0.210873</td>\n",
       "      <td>9.218010</td>\n",
       "      <td>72</td>\n",
       "      <td>12</td>\n",
       "      <td>3.616770</td>\n",
       "    </tr>\n",
       "  </tbody>\n",
       "</table>\n",
       "</div>"
      ],
      "text/plain": [
       "     symbol   indicator           start_date             end_date  ob_level  \\\n",
       "0  ADA/USDT  wave_trend  2020-09-12 00:01:00  2020-09-19 00:00:00        43   \n",
       "1  ADA/USDT  wave_trend  2020-10-03 00:01:00  2020-10-10 00:00:00        43   \n",
       "2  ADA/USDT  wave_trend  2020-09-19 00:01:00  2020-09-26 00:00:00        43   \n",
       "3  ADA/USDT  wave_trend  2020-10-24 00:01:00  2020-10-31 00:00:00        43   \n",
       "4  ADA/USDT  wave_trend  2020-10-03 00:01:00  2020-10-10 00:00:00        43   \n",
       "\n",
       "   os_level      k      mean       std  skewness  kurtosis   entropy  \\\n",
       "0       -63  0.001  0.094280  0.002346  0.055612 -0.985233  9.217999   \n",
       "1       -63  0.001  0.095097  0.002326  0.409831 -0.210873  9.218010   \n",
       "2       -63  0.002  0.085529  0.005681  0.283234 -1.222078  9.216114   \n",
       "3       -63  0.001  0.102092  0.005335 -0.429036 -1.028970  9.216932   \n",
       "4       -63  0.002  0.095097  0.002326  0.409831 -0.210873  9.218010   \n",
       "\n",
       "   n_total_partitions  n_partitions  clean_gains  \n",
       "0                  68             8     0.157059  \n",
       "1                  75            11     4.233419  \n",
       "2                  62             2     1.832861  \n",
       "3                  83            36   -13.175106  \n",
       "4                  72            12     3.616770  "
      ]
     },
     "execution_count": 10,
     "metadata": {},
     "output_type": "execute_result"
    }
   ],
   "source": [
    "results.head()"
   ]
  },
  {
   "cell_type": "code",
   "execution_count": 11,
   "id": "fabulous-belfast",
   "metadata": {},
   "outputs": [],
   "source": [
    "df = results[results['clean_gains'] != 0]\n",
    "\n",
    "start_date = df.iloc[0]['start_date']\n",
    "start_date = datetime.strptime(start_date, '%Y-%m-%d %H:%M:%S')\n",
    "end_date = start_date + timedelta(days = 7)\n",
    "df = df[(df['start_date'] >= str(start_date)) & (df['end_date'] < str(end_date))]\n",
    "\n",
    "df = df.sample(frac=1)\n",
    "df = df.reset_index(drop=True)"
   ]
  },
  {
   "cell_type": "code",
   "execution_count": 13,
   "id": "loving-recipient",
   "metadata": {},
   "outputs": [],
   "source": [
    "max_gains = 0\n",
    "max_gains_row = None\n",
    "for index, row in df.iterrows():\n",
    "    if row['clean_gains'] > max_gains:\n",
    "        max_gains = row['clean_gains']\n",
    "        max_gains_row = row"
   ]
  },
  {
   "cell_type": "code",
   "execution_count": 14,
   "id": "prescription-strip",
   "metadata": {},
   "outputs": [
    {
     "name": "stdout",
     "output_type": "stream",
     "text": [
      "2.535002048147158\n"
     ]
    }
   ],
   "source": [
    "print(max_gains)"
   ]
  },
  {
   "cell_type": "code",
   "execution_count": 15,
   "id": "lonely-nirvana",
   "metadata": {},
   "outputs": [
    {
     "name": "stdout",
     "output_type": "stream",
     "text": [
      "symbol                           ADA/USDT\n",
      "indicator                      wave_trend\n",
      "start_date            2020-09-12 00:01:00\n",
      "end_date              2020-09-19 00:00:00\n",
      "ob_level                               53\n",
      "os_level                              -53\n",
      "k                                    0.01\n",
      "mean                              0.09428\n",
      "std                              0.002346\n",
      "skewness                         0.055612\n",
      "kurtosis                        -0.985233\n",
      "entropy                          9.217999\n",
      "n_total_partitions                     34\n",
      "n_partitions                            4\n",
      "clean_gains                      2.535002\n",
      "Name: 17, dtype: object\n"
     ]
    }
   ],
   "source": [
    "print(max_gains_row)"
   ]
  },
  {
   "cell_type": "code",
   "execution_count": null,
   "id": "former-backing",
   "metadata": {},
   "outputs": [],
   "source": []
  }
 ],
 "metadata": {
  "kernelspec": {
   "display_name": "Python 3",
   "language": "python",
   "name": "python3"
  },
  "language_info": {
   "codemirror_mode": {
    "name": "ipython",
    "version": 3
   },
   "file_extension": ".py",
   "mimetype": "text/x-python",
   "name": "python",
   "nbconvert_exporter": "python",
   "pygments_lexer": "ipython3",
   "version": "3.7.3"
  }
 },
 "nbformat": 4,
 "nbformat_minor": 5
}
