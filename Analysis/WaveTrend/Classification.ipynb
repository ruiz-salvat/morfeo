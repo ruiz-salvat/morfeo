{
 "cells": [
  {
   "cell_type": "code",
   "execution_count": 30,
   "id": "functional-popularity",
   "metadata": {},
   "outputs": [],
   "source": [
    "import pandas as pd\n",
    "import matplotlib.pyplot as plt\n",
    "from sklearn.tree import DecisionTreeRegressor\n",
    "from sklearn.model_selection import train_test_split\n",
    "from sklearn import metrics"
   ]
  },
  {
   "cell_type": "code",
   "execution_count": 3,
   "id": "novel-assets",
   "metadata": {},
   "outputs": [],
   "source": [
    "df = pd.read_csv('../../Data/OptimizationData/ADAUSDT_7_5_wave_trend_optimizations.csv')"
   ]
  },
  {
   "cell_type": "code",
   "execution_count": 19,
   "id": "mature-handy",
   "metadata": {},
   "outputs": [
    {
     "data": {
      "text/html": [
       "<div>\n",
       "<style scoped>\n",
       "    .dataframe tbody tr th:only-of-type {\n",
       "        vertical-align: middle;\n",
       "    }\n",
       "\n",
       "    .dataframe tbody tr th {\n",
       "        vertical-align: top;\n",
       "    }\n",
       "\n",
       "    .dataframe thead th {\n",
       "        text-align: right;\n",
       "    }\n",
       "</style>\n",
       "<table border=\"1\" class=\"dataframe\">\n",
       "  <thead>\n",
       "    <tr style=\"text-align: right;\">\n",
       "      <th></th>\n",
       "      <th>mean</th>\n",
       "      <th>std</th>\n",
       "      <th>skewness</th>\n",
       "      <th>kurtosis</th>\n",
       "      <th>entropy</th>\n",
       "      <th>ob_level</th>\n",
       "      <th>os_level</th>\n",
       "      <th>k</th>\n",
       "      <th>clean_gains</th>\n",
       "      <th>r2</th>\n",
       "    </tr>\n",
       "  </thead>\n",
       "  <tbody>\n",
       "    <tr>\n",
       "      <th>0</th>\n",
       "      <td>0.094280</td>\n",
       "      <td>0.002346</td>\n",
       "      <td>0.055612</td>\n",
       "      <td>-0.985233</td>\n",
       "      <td>9.217999</td>\n",
       "      <td>51</td>\n",
       "      <td>-55</td>\n",
       "      <td>0.010</td>\n",
       "      <td>2.461501</td>\n",
       "      <td>0.882463</td>\n",
       "    </tr>\n",
       "    <tr>\n",
       "      <th>1</th>\n",
       "      <td>0.085529</td>\n",
       "      <td>0.005681</td>\n",
       "      <td>0.283234</td>\n",
       "      <td>-1.222078</td>\n",
       "      <td>9.216114</td>\n",
       "      <td>46</td>\n",
       "      <td>-55</td>\n",
       "      <td>0.006</td>\n",
       "      <td>6.704611</td>\n",
       "      <td>0.700541</td>\n",
       "    </tr>\n",
       "    <tr>\n",
       "      <th>2</th>\n",
       "      <td>0.098893</td>\n",
       "      <td>0.003691</td>\n",
       "      <td>-0.216986</td>\n",
       "      <td>-0.973035</td>\n",
       "      <td>9.217610</td>\n",
       "      <td>56</td>\n",
       "      <td>-50</td>\n",
       "      <td>0.009</td>\n",
       "      <td>3.713368</td>\n",
       "      <td>0.824753</td>\n",
       "    </tr>\n",
       "    <tr>\n",
       "      <th>3</th>\n",
       "      <td>0.095097</td>\n",
       "      <td>0.002326</td>\n",
       "      <td>0.409831</td>\n",
       "      <td>-0.210873</td>\n",
       "      <td>9.218010</td>\n",
       "      <td>46</td>\n",
       "      <td>-55</td>\n",
       "      <td>0.009</td>\n",
       "      <td>4.341009</td>\n",
       "      <td>0.932410</td>\n",
       "    </tr>\n",
       "    <tr>\n",
       "      <th>4</th>\n",
       "      <td>0.107289</td>\n",
       "      <td>0.002492</td>\n",
       "      <td>0.336971</td>\n",
       "      <td>-0.418512</td>\n",
       "      <td>9.218040</td>\n",
       "      <td>46</td>\n",
       "      <td>-55</td>\n",
       "      <td>0.001</td>\n",
       "      <td>6.673320</td>\n",
       "      <td>0.960356</td>\n",
       "    </tr>\n",
       "  </tbody>\n",
       "</table>\n",
       "</div>"
      ],
      "text/plain": [
       "       mean       std  skewness  kurtosis   entropy  ob_level  os_level  \\\n",
       "0  0.094280  0.002346  0.055612 -0.985233  9.217999        51       -55   \n",
       "1  0.085529  0.005681  0.283234 -1.222078  9.216114        46       -55   \n",
       "2  0.098893  0.003691 -0.216986 -0.973035  9.217610        56       -50   \n",
       "3  0.095097  0.002326  0.409831 -0.210873  9.218010        46       -55   \n",
       "4  0.107289  0.002492  0.336971 -0.418512  9.218040        46       -55   \n",
       "\n",
       "       k  clean_gains        r2  \n",
       "0  0.010     2.461501  0.882463  \n",
       "1  0.006     6.704611  0.700541  \n",
       "2  0.009     3.713368  0.824753  \n",
       "3  0.009     4.341009  0.932410  \n",
       "4  0.001     6.673320  0.960356  "
      ]
     },
     "execution_count": 19,
     "metadata": {},
     "output_type": "execute_result"
    }
   ],
   "source": [
    "df.head()"
   ]
  },
  {
   "cell_type": "code",
   "execution_count": 14,
   "id": "vocational-license",
   "metadata": {},
   "outputs": [
    {
     "data": {
      "text/plain": [
       "<matplotlib.collections.PathCollection at 0x2461b014550>"
      ]
     },
     "execution_count": 14,
     "metadata": {},
     "output_type": "execute_result"
    },
    {
     "data": {
      "image/png": "[encoded data removed]",
      "text/plain": [
       "<Figure size 432x288 with 1 Axes>"
      ]
     },
     "metadata": {
      "needs_background": "light"
     },
     "output_type": "display_data"
    }
   ],
   "source": [
    "plt.scatter(df['entropy'], df['clean_gains'])"
   ]
  },
  {
   "cell_type": "markdown",
   "id": "monthly-india",
   "metadata": {},
   "source": [
    "# There are 3 target variables, so 3 models are built"
   ]
  },
  {
   "cell_type": "code",
   "execution_count": 15,
   "id": "sublime-religious",
   "metadata": {},
   "outputs": [],
   "source": [
    "ob_level_df = df.drop(columns = ['mean', 'os_level', 'k', 'clean_gains', 'r2'])\n",
    "os_level_df = df.drop(columns = ['mean', 'ob_level', 'k', 'clean_gains', 'r2'])\n",
    "k_df = df.drop(columns = ['mean', 'os_level', 'ob_level', 'clean_gains', 'r2'])"
   ]
  },
  {
   "cell_type": "markdown",
   "id": "direct-thomson",
   "metadata": {},
   "source": [
    "# ob_level"
   ]
  },
  {
   "cell_type": "code",
   "execution_count": 43,
   "id": "usual-spencer",
   "metadata": {},
   "outputs": [],
   "source": [
    "X = ob_level_df[['std', 'skewness', 'kurtosis', 'entropy']].to_numpy()\n",
    "y = ob_level_df['ob_level'].to_numpy()"
   ]
  },
  {
   "cell_type": "code",
   "execution_count": 44,
   "id": "ranking-closer",
   "metadata": {},
   "outputs": [],
   "source": [
    "X_train, X_test, y_train, y_test = train_test_split(X, y, test_size=0.2, random_state=0)"
   ]
  },
  {
   "cell_type": "code",
   "execution_count": 45,
   "id": "transsexual-barcelona",
   "metadata": {},
   "outputs": [],
   "source": [
    "ob_level_model = DecisionTreeRegressor()\n",
    "\n",
    "ob_level_model.fit(X_train, y_train)\n",
    "\n",
    "y_pred = ob_level_model.predict(X_test)\n",
    "\n",
    "ob_level_r2 = metrics.r2_score(y_test, y_pred)"
   ]
  },
  {
   "cell_type": "code",
   "execution_count": 46,
   "id": "failing-minnesota",
   "metadata": {},
   "outputs": [
    {
     "data": {
      "text/plain": [
       "-1.784552845528455"
      ]
     },
     "execution_count": 46,
     "metadata": {},
     "output_type": "execute_result"
    }
   ],
   "source": [
    "ob_level_r2"
   ]
  },
  {
   "cell_type": "markdown",
   "id": "saving-doctrine",
   "metadata": {},
   "source": [
    "# os_level"
   ]
  },
  {
   "cell_type": "code",
   "execution_count": 47,
   "id": "tender-preservation",
   "metadata": {},
   "outputs": [],
   "source": [
    "X = os_level_df[['std', 'skewness', 'kurtosis', 'entropy']].to_numpy()\n",
    "y = os_level_df['os_level'].to_numpy()"
   ]
  },
  {
   "cell_type": "code",
   "execution_count": 48,
   "id": "incredible-brave",
   "metadata": {},
   "outputs": [],
   "source": [
    "X_train, X_test, y_train, y_test = train_test_split(X, y, test_size=0.2, random_state=0)"
   ]
  },
  {
   "cell_type": "code",
   "execution_count": 55,
   "id": "conditional-puppy",
   "metadata": {},
   "outputs": [],
   "source": [
    "os_level_model = DecisionTreeRegressor()\n",
    "\n",
    "os_level_model.fit(X_train, y_train)\n",
    "\n",
    "y_pred = os_level_model.predict(X_test)\n",
    "\n",
    "os_level_r2 = metrics.r2_score(y_test, y_pred)"
   ]
  },
  {
   "cell_type": "code",
   "execution_count": 56,
   "id": "understanding-input",
   "metadata": {},
   "outputs": [
    {
     "data": {
      "text/plain": [
       "-2.8"
      ]
     },
     "execution_count": 56,
     "metadata": {},
     "output_type": "execute_result"
    }
   ],
   "source": [
    "os_level_r2"
   ]
  },
  {
   "cell_type": "markdown",
   "id": "worth-latin",
   "metadata": {},
   "source": [
    "# k"
   ]
  },
  {
   "cell_type": "code",
   "execution_count": 61,
   "id": "grateful-liquid",
   "metadata": {},
   "outputs": [],
   "source": [
    "X = k_df[['std', 'skewness', 'kurtosis', 'entropy']].to_numpy()\n",
    "y = k_df['k'].to_numpy()"
   ]
  },
  {
   "cell_type": "code",
   "execution_count": 62,
   "id": "exterior-township",
   "metadata": {},
   "outputs": [],
   "source": [
    "X_train, X_test, y_train, y_test = train_test_split(X, y, test_size=0.2, random_state=0)"
   ]
  },
  {
   "cell_type": "code",
   "execution_count": 63,
   "id": "closing-index",
   "metadata": {},
   "outputs": [],
   "source": [
    "k_model = DecisionTreeRegressor()\n",
    "\n",
    "k_model.fit(X_train, y_train)\n",
    "\n",
    "y_pred = k_model.predict(X_test)\n",
    "\n",
    "k_r2 = metrics.r2_score(y_test, y_pred)"
   ]
  },
  {
   "cell_type": "code",
   "execution_count": 64,
   "id": "weird-friendly",
   "metadata": {},
   "outputs": [
    {
     "data": {
      "text/plain": [
       "-4.24"
      ]
     },
     "execution_count": 64,
     "metadata": {},
     "output_type": "execute_result"
    }
   ],
   "source": [
    "k_r2"
   ]
  },
  {
   "cell_type": "code",
   "execution_count": null,
   "id": "interested-motel",
   "metadata": {},
   "outputs": [],
   "source": []
  }
 ],
 "metadata": {
  "kernelspec": {
   "display_name": "Python 3",
   "language": "python",
   "name": "python3"
  },
  "language_info": {
   "codemirror_mode": {
    "name": "ipython",
    "version": 3
   },
   "file_extension": ".py",
   "mimetype": "text/x-python",
   "name": "python",
   "nbconvert_exporter": "python",
   "pygments_lexer": "ipython3",
   "version": "3.7.3"
  }
 },
 "nbformat": 4,
 "nbformat_minor": 5
}
