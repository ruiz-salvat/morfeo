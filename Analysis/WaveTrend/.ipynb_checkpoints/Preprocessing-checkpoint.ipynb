{
 "cells": [
  {
   "cell_type": "code",
   "execution_count": 31,
   "id": "cutting-manner",
   "metadata": {},
   "outputs": [],
   "source": [
    "import pandas as pd\n",
    "import matplotlib.pyplot as plt\n",
    "import numpy as np\n",
    "from sklearn.model_selection import train_test_split\n",
    "from sklearn.linear_model import LinearRegression, Ridge\n",
    "from sklearn import metrics\n",
    "from datetime import timedelta\n",
    "from datetime import datetime"
   ]
  },
  {
   "cell_type": "code",
   "execution_count": 2,
   "id": "expanded-tunisia",
   "metadata": {},
   "outputs": [],
   "source": [
    "results = pd.read_csv('../../Data/ResultData/wave_trend_results.csv')"
   ]
  },
  {
   "cell_type": "code",
   "execution_count": 3,
   "id": "exciting-fault",
   "metadata": {},
   "outputs": [
    {
     "data": {
      "text/html": [
       "<div>\n",
       "<style scoped>\n",
       "    .dataframe tbody tr th:only-of-type {\n",
       "        vertical-align: middle;\n",
       "    }\n",
       "\n",
       "    .dataframe tbody tr th {\n",
       "        vertical-align: top;\n",
       "    }\n",
       "\n",
       "    .dataframe thead th {\n",
       "        text-align: right;\n",
       "    }\n",
       "</style>\n",
       "<table border=\"1\" class=\"dataframe\">\n",
       "  <thead>\n",
       "    <tr style=\"text-align: right;\">\n",
       "      <th></th>\n",
       "      <th>symbol</th>\n",
       "      <th>indicator</th>\n",
       "      <th>start_date</th>\n",
       "      <th>end_date</th>\n",
       "      <th>ob_level</th>\n",
       "      <th>os_level</th>\n",
       "      <th>k</th>\n",
       "      <th>mean</th>\n",
       "      <th>std</th>\n",
       "      <th>skewness</th>\n",
       "      <th>kurtosis</th>\n",
       "      <th>entropy</th>\n",
       "      <th>n_total_partitions</th>\n",
       "      <th>n_partitions</th>\n",
       "      <th>clean_gains</th>\n",
       "    </tr>\n",
       "  </thead>\n",
       "  <tbody>\n",
       "    <tr>\n",
       "      <th>0</th>\n",
       "      <td>ADA/USDT</td>\n",
       "      <td>wave_trend</td>\n",
       "      <td>2020-09-12 00:01:00</td>\n",
       "      <td>2020-09-19 00:00:00</td>\n",
       "      <td>53</td>\n",
       "      <td>-53</td>\n",
       "      <td>0.001</td>\n",
       "      <td>0.09428</td>\n",
       "      <td>0.002346</td>\n",
       "      <td>0.055612</td>\n",
       "      <td>-0.985233</td>\n",
       "      <td>9.217999</td>\n",
       "      <td>69</td>\n",
       "      <td>8</td>\n",
       "      <td>0.493738</td>\n",
       "    </tr>\n",
       "    <tr>\n",
       "      <th>1</th>\n",
       "      <td>ADA/USDT</td>\n",
       "      <td>wave_trend</td>\n",
       "      <td>2020-09-12 00:01:00</td>\n",
       "      <td>2020-09-19 00:00:00</td>\n",
       "      <td>53</td>\n",
       "      <td>-53</td>\n",
       "      <td>0.002</td>\n",
       "      <td>0.09428</td>\n",
       "      <td>0.002346</td>\n",
       "      <td>0.055612</td>\n",
       "      <td>-0.985233</td>\n",
       "      <td>9.217999</td>\n",
       "      <td>65</td>\n",
       "      <td>8</td>\n",
       "      <td>-0.173816</td>\n",
       "    </tr>\n",
       "    <tr>\n",
       "      <th>2</th>\n",
       "      <td>ADA/USDT</td>\n",
       "      <td>wave_trend</td>\n",
       "      <td>2020-09-12 00:01:00</td>\n",
       "      <td>2020-09-19 00:00:00</td>\n",
       "      <td>53</td>\n",
       "      <td>-53</td>\n",
       "      <td>0.003</td>\n",
       "      <td>0.09428</td>\n",
       "      <td>0.002346</td>\n",
       "      <td>0.055612</td>\n",
       "      <td>-0.985233</td>\n",
       "      <td>9.217999</td>\n",
       "      <td>61</td>\n",
       "      <td>9</td>\n",
       "      <td>-0.184818</td>\n",
       "    </tr>\n",
       "    <tr>\n",
       "      <th>3</th>\n",
       "      <td>ADA/USDT</td>\n",
       "      <td>wave_trend</td>\n",
       "      <td>2020-09-12 00:01:00</td>\n",
       "      <td>2020-09-19 00:00:00</td>\n",
       "      <td>53</td>\n",
       "      <td>-53</td>\n",
       "      <td>0.004</td>\n",
       "      <td>0.09428</td>\n",
       "      <td>0.002346</td>\n",
       "      <td>0.055612</td>\n",
       "      <td>-0.985233</td>\n",
       "      <td>9.217999</td>\n",
       "      <td>56</td>\n",
       "      <td>9</td>\n",
       "      <td>0.334299</td>\n",
       "    </tr>\n",
       "    <tr>\n",
       "      <th>4</th>\n",
       "      <td>ADA/USDT</td>\n",
       "      <td>wave_trend</td>\n",
       "      <td>2020-09-12 00:01:00</td>\n",
       "      <td>2020-09-19 00:00:00</td>\n",
       "      <td>53</td>\n",
       "      <td>-53</td>\n",
       "      <td>0.005</td>\n",
       "      <td>0.09428</td>\n",
       "      <td>0.002346</td>\n",
       "      <td>0.055612</td>\n",
       "      <td>-0.985233</td>\n",
       "      <td>9.217999</td>\n",
       "      <td>53</td>\n",
       "      <td>7</td>\n",
       "      <td>1.629595</td>\n",
       "    </tr>\n",
       "  </tbody>\n",
       "</table>\n",
       "</div>"
      ],
      "text/plain": [
       "     symbol   indicator           start_date             end_date  ob_level  \\\n",
       "0  ADA/USDT  wave_trend  2020-09-12 00:01:00  2020-09-19 00:00:00        53   \n",
       "1  ADA/USDT  wave_trend  2020-09-12 00:01:00  2020-09-19 00:00:00        53   \n",
       "2  ADA/USDT  wave_trend  2020-09-12 00:01:00  2020-09-19 00:00:00        53   \n",
       "3  ADA/USDT  wave_trend  2020-09-12 00:01:00  2020-09-19 00:00:00        53   \n",
       "4  ADA/USDT  wave_trend  2020-09-12 00:01:00  2020-09-19 00:00:00        53   \n",
       "\n",
       "   os_level      k     mean       std  skewness  kurtosis   entropy  \\\n",
       "0       -53  0.001  0.09428  0.002346  0.055612 -0.985233  9.217999   \n",
       "1       -53  0.002  0.09428  0.002346  0.055612 -0.985233  9.217999   \n",
       "2       -53  0.003  0.09428  0.002346  0.055612 -0.985233  9.217999   \n",
       "3       -53  0.004  0.09428  0.002346  0.055612 -0.985233  9.217999   \n",
       "4       -53  0.005  0.09428  0.002346  0.055612 -0.985233  9.217999   \n",
       "\n",
       "   n_total_partitions  n_partitions  clean_gains  \n",
       "0                  69             8     0.493738  \n",
       "1                  65             8    -0.173816  \n",
       "2                  61             9    -0.184818  \n",
       "3                  56             9     0.334299  \n",
       "4                  53             7     1.629595  "
      ]
     },
     "execution_count": 3,
     "metadata": {},
     "output_type": "execute_result"
    }
   ],
   "source": [
    "results.head()"
   ]
  },
  {
   "cell_type": "code",
   "execution_count": 4,
   "id": "objective-happening",
   "metadata": {},
   "outputs": [
    {
     "data": {
      "text/plain": [
       "array([[<AxesSubplot:title={'center':'clean_gains'}>]], dtype=object)"
      ]
     },
     "execution_count": 4,
     "metadata": {},
     "output_type": "execute_result"
    },
    {
     "data": {
      "image/png": "[encoded data removed]",
      "text/plain": [
       "<Figure size 432x288 with 1 Axes>"
      ]
     },
     "metadata": {
      "needs_background": "light"
     },
     "output_type": "display_data"
    }
   ],
   "source": [
    "positive_results = results[results['clean_gains'] > 0]\n",
    "positive_results.hist(column = 'clean_gains')"
   ]
  },
  {
   "cell_type": "markdown",
   "id": "expanded-peace",
   "metadata": {},
   "source": [
    "For each time frame:\n",
    "* Build ML models\n",
    "* Evaluate them\n",
    "* Perform t-test and select model\n",
    "* Store optimal values in dataset if the R^2 is greater than 0.8 and clean gains are positive"
   ]
  },
  {
   "cell_type": "markdown",
   "id": "dominican-assist",
   "metadata": {},
   "source": [
    "ML algorithms used:\n",
    "* Linear regression\n",
    "* Polinomial regression (order: 2)\n",
    "* Polinomial regression (order: 3)\n",
    "* Ridge regression\n",
    "* Lasso regression\n",
    "* ElasticNet"
   ]
  },
  {
   "cell_type": "markdown",
   "id": "wicked-johnston",
   "metadata": {},
   "source": [
    "# Generate train and test datasets"
   ]
  },
  {
   "cell_type": "code",
   "execution_count": 25,
   "id": "complimentary-neighbor",
   "metadata": {},
   "outputs": [],
   "source": [
    "df = results[results['clean_gains'] > 0]\n",
    "\n",
    "start_date = df.iloc[0]['start_date']\n",
    "start_date = datetime.strptime(start_date, '%Y-%m-%d %H:%M:%S')\n",
    "end_date = start_date + timedelta(days = 7)\n",
    "df = df[(df['start_date'] >= str(start_date)) & (df['end_date'] < str(end_date))]\n",
    "\n",
    "df = df.sample(frac=1)\n",
    "df = df.reset_index(drop=True)\n",
    "\n",
    "X = df['k'].to_numpy()\n",
    "y = df['clean_gains'].to_numpy()\n",
    "\n",
    "X_train, X_test, y_train, y_test = train_test_split(X, y, test_size=0.3, random_state=0)\n",
    "\n",
    "X_train = X_train.reshape(-1, 1)\n",
    "X_test = X_test.reshape(-1, 1)\n",
    "y_train = y_train.reshape(-1, 1)\n",
    "y_test = y_test.reshape(-1, 1)"
   ]
  },
  {
   "cell_type": "markdown",
   "id": "unauthorized-violation",
   "metadata": {},
   "source": [
    "# Linear regression"
   ]
  },
  {
   "cell_type": "code",
   "execution_count": 32,
   "id": "color-legislation",
   "metadata": {},
   "outputs": [],
   "source": [
    "linear_regr = LinearRegression()\n",
    "\n",
    "linear_regr.fit(X_train, y_train)\n",
    "\n",
    "linear_regr_y_predicted = linear_regr.predict(X_test)"
   ]
  },
  {
   "cell_type": "code",
   "execution_count": 33,
   "id": "pleasant-sight",
   "metadata": {},
   "outputs": [
    {
     "data": {
      "text/plain": [
       "[<matplotlib.lines.Line2D at 0x19ea12be400>]"
      ]
     },
     "execution_count": 33,
     "metadata": {},
     "output_type": "execute_result"
    },
    {
     "data": {
      "image/png": "[encoded data removed]",
      "text/plain": [
       "<Figure size 432x288 with 1 Axes>"
      ]
     },
     "metadata": {
      "needs_background": "light"
     },
     "output_type": "display_data"
    }
   ],
   "source": [
    "plt.scatter(X, y)\n",
    "plt.plot(X_test, linear_regr_y_predicted, color='r') "
   ]
  },
  {
   "cell_type": "code",
   "execution_count": 34,
   "id": "mobile-adjustment",
   "metadata": {},
   "outputs": [
    {
     "name": "stdout",
     "output_type": "stream",
     "text": [
      "-0.05475680978316211\n"
     ]
    }
   ],
   "source": [
    "linear_regr_R2 = metrics.r2_score(y_test, linear_regr_y_predicted)\n",
    "print(linear_regr_R2)"
   ]
  },
  {
   "cell_type": "markdown",
   "id": "stuck-fitting",
   "metadata": {},
   "source": [
    "# Ridge regression"
   ]
  },
  {
   "cell_type": "code",
   "execution_count": 46,
   "id": "relevant-harmony",
   "metadata": {},
   "outputs": [],
   "source": [
    "ridge_regr = Ridge(alpha = 0.5)\n",
    "\n",
    "ridge_regr.fit(X_train, y_train)\n",
    "\n",
    "ridge_regr_y_predicted = ridge_regr.predict(X_test)"
   ]
  },
  {
   "cell_type": "code",
   "execution_count": 47,
   "id": "infectious-punishment",
   "metadata": {},
   "outputs": [
    {
     "data": {
      "text/plain": [
       "[<matplotlib.lines.Line2D at 0x19ea107ccc0>]"
      ]
     },
     "execution_count": 47,
     "metadata": {},
     "output_type": "execute_result"
    },
    {
     "data": {
      "image/png": "[encoded data removed]",
      "text/plain": [
       "<Figure size 432x288 with 1 Axes>"
      ]
     },
     "metadata": {
      "needs_background": "light"
     },
     "output_type": "display_data"
    }
   ],
   "source": [
    "plt.scatter(X, y)\n",
    "plt.plot(X_test, ridge_regr_y_predicted, color='r')"
   ]
  },
  {
   "cell_type": "code",
   "execution_count": 48,
   "id": "heard-fever",
   "metadata": {},
   "outputs": [
    {
     "name": "stdout",
     "output_type": "stream",
     "text": [
      "-0.07176757185363947\n"
     ]
    }
   ],
   "source": [
    "ridge_regr_R2 = metrics.r2_score(y_test, ridge_regr_y_predicted)\n",
    "print(ridge_regr_R2)"
   ]
  },
  {
   "cell_type": "code",
   "execution_count": null,
   "id": "seventh-intention",
   "metadata": {},
   "outputs": [],
   "source": []
  }
 ],
 "metadata": {
  "kernelspec": {
   "display_name": "Python 3",
   "language": "python",
   "name": "python3"
  },
  "language_info": {
   "codemirror_mode": {
    "name": "ipython",
    "version": 3
   },
   "file_extension": ".py",
   "mimetype": "text/x-python",
   "name": "python",
   "nbconvert_exporter": "python",
   "pygments_lexer": "ipython3",
   "version": "3.7.3"
  }
 },
 "nbformat": 4,
 "nbformat_minor": 5
}
