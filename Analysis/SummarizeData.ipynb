{
 "cells": [
  {
   "cell_type": "code",
   "execution_count": 1,
   "id": "filled-doctrine",
   "metadata": {},
   "outputs": [],
   "source": [
    "import pandas as pd\n",
    "from scipy import stats\n",
    "from sklearn.preprocessing import normalize\n",
    "import matplotlib.pyplot as plt"
   ]
  },
  {
   "cell_type": "code",
   "execution_count": 2,
   "id": "first-hawaiian",
   "metadata": {},
   "outputs": [],
   "source": [
    "df = pd.read_csv('../Data/test_data.csv')"
   ]
  },
  {
   "cell_type": "code",
   "execution_count": 3,
   "id": "southern-permit",
   "metadata": {},
   "outputs": [
    {
     "data": {
      "text/html": [
       "<div>\n",
       "<style scoped>\n",
       "    .dataframe tbody tr th:only-of-type {\n",
       "        vertical-align: middle;\n",
       "    }\n",
       "\n",
       "    .dataframe tbody tr th {\n",
       "        vertical-align: top;\n",
       "    }\n",
       "\n",
       "    .dataframe thead th {\n",
       "        text-align: right;\n",
       "    }\n",
       "</style>\n",
       "<table border=\"1\" class=\"dataframe\">\n",
       "  <thead>\n",
       "    <tr style=\"text-align: right;\">\n",
       "      <th></th>\n",
       "      <th>symbol</th>\n",
       "      <th>timestamp</th>\n",
       "      <th>value</th>\n",
       "    </tr>\n",
       "  </thead>\n",
       "  <tbody>\n",
       "    <tr>\n",
       "      <th>0</th>\n",
       "      <td>ADA/USDT</td>\n",
       "      <td>2020-09-12 00:01:00</td>\n",
       "      <td>0.09698</td>\n",
       "    </tr>\n",
       "    <tr>\n",
       "      <th>1</th>\n",
       "      <td>ADA/USDT</td>\n",
       "      <td>2020-09-12 00:02:00</td>\n",
       "      <td>0.09712</td>\n",
       "    </tr>\n",
       "    <tr>\n",
       "      <th>2</th>\n",
       "      <td>ADA/USDT</td>\n",
       "      <td>2020-09-12 00:03:00</td>\n",
       "      <td>0.09709</td>\n",
       "    </tr>\n",
       "    <tr>\n",
       "      <th>3</th>\n",
       "      <td>ADA/USDT</td>\n",
       "      <td>2020-09-12 00:04:00</td>\n",
       "      <td>0.09692</td>\n",
       "    </tr>\n",
       "    <tr>\n",
       "      <th>4</th>\n",
       "      <td>ADA/USDT</td>\n",
       "      <td>2020-09-12 00:05:00</td>\n",
       "      <td>0.09678</td>\n",
       "    </tr>\n",
       "  </tbody>\n",
       "</table>\n",
       "</div>"
      ],
      "text/plain": [
       "     symbol            timestamp    value\n",
       "0  ADA/USDT  2020-09-12 00:01:00  0.09698\n",
       "1  ADA/USDT  2020-09-12 00:02:00  0.09712\n",
       "2  ADA/USDT  2020-09-12 00:03:00  0.09709\n",
       "3  ADA/USDT  2020-09-12 00:04:00  0.09692\n",
       "4  ADA/USDT  2020-09-12 00:05:00  0.09678"
      ]
     },
     "execution_count": 3,
     "metadata": {},
     "output_type": "execute_result"
    }
   ],
   "source": [
    "df.head()"
   ]
  },
  {
   "cell_type": "code",
   "execution_count": 4,
   "id": "meaningful-algebra",
   "metadata": {},
   "outputs": [],
   "source": [
    "df = df[df['timestamp'] < '2020-09-19 00:01:00']"
   ]
  },
  {
   "cell_type": "code",
   "execution_count": 5,
   "id": "plastic-cedar",
   "metadata": {},
   "outputs": [],
   "source": [
    "values = df['value'].to_numpy()"
   ]
  },
  {
   "cell_type": "code",
   "execution_count": 6,
   "id": "pending-middle",
   "metadata": {},
   "outputs": [],
   "source": [
    "values = [i*456 for i in values]  # for the example"
   ]
  },
  {
   "cell_type": "code",
   "execution_count": 7,
   "id": "knowing-cylinder",
   "metadata": {},
   "outputs": [],
   "source": [
    "mean = stats.tmean(values)\n",
    "std = stats.tstd(values)\n",
    "skewness = stats.skew(values)\n",
    "kurtosis = stats.kurtosis(values)\n",
    "entropy = stats.entropy(values)"
   ]
  },
  {
   "cell_type": "code",
   "execution_count": 8,
   "id": "amber-cameroon",
   "metadata": {},
   "outputs": [
    {
     "data": {
      "text/plain": [
       "42.991860952380954"
      ]
     },
     "execution_count": 8,
     "metadata": {},
     "output_type": "execute_result"
    }
   ],
   "source": [
    "mean"
   ]
  },
  {
   "cell_type": "code",
   "execution_count": 9,
   "id": "solar-bandwidth",
   "metadata": {},
   "outputs": [],
   "source": [
    "norm_values = [float(i)/max(values) for i in values]"
   ]
  },
  {
   "cell_type": "code",
   "execution_count": 10,
   "id": "listed-anaheim",
   "metadata": {},
   "outputs": [],
   "source": [
    "norm_mean = stats.tmean(norm_values)\n",
    "norm_std = stats.tstd(norm_values)\n",
    "norm_skewness = stats.skew(norm_values)\n",
    "norm_kurtosis = stats.kurtosis(norm_values)\n",
    "norm_entropy = stats.entropy(norm_values)"
   ]
  },
  {
   "cell_type": "code",
   "execution_count": 11,
   "id": "graduate-kansas",
   "metadata": {},
   "outputs": [
    {
     "data": {
      "text/plain": [
       "0.9450721413933122"
      ]
     },
     "execution_count": 11,
     "metadata": {},
     "output_type": "execute_result"
    }
   ],
   "source": [
    "norm_mean"
   ]
  },
  {
   "cell_type": "code",
   "execution_count": 12,
   "id": "inappropriate-application",
   "metadata": {},
   "outputs": [
    {
     "data": {
      "text/plain": [
       "(array([ 488., 1193., 1353., 1209., 1329., 1162., 1595., 1194.,  261.,\n",
       "         296.]),\n",
       " array([40.87584 , 41.337312, 41.798784, 42.260256, 42.721728, 43.1832  ,\n",
       "        43.644672, 44.106144, 44.567616, 45.029088, 45.49056 ]),\n",
       " <BarContainer object of 10 artists>)"
      ]
     },
     "execution_count": 12,
     "metadata": {},
     "output_type": "execute_result"
    },
    {
     "data": {
      "image/png": "[encoded data removed]",
      "text/plain": [
       "<Figure size 432x288 with 1 Axes>"
      ]
     },
     "metadata": {
      "needs_background": "light"
     },
     "output_type": "display_data"
    }
   ],
   "source": [
    "plt.hist(values)"
   ]
  },
  {
   "cell_type": "code",
   "execution_count": 13,
   "id": "proof-style",
   "metadata": {},
   "outputs": [
    {
     "data": {
      "text/plain": [
       "(array([ 488., 1193., 1353., 1209., 1329., 1162., 1595., 1194.,  261.,\n",
       "         296.]),\n",
       " array([0.89855654, 0.90870088, 0.91884523, 0.92898957, 0.93913392,\n",
       "        0.94927827, 0.95942261, 0.96956696, 0.97971131, 0.98985565,\n",
       "        1.        ]),\n",
       " <BarContainer object of 10 artists>)"
      ]
     },
     "execution_count": 13,
     "metadata": {},
     "output_type": "execute_result"
    },
    {
     "data": {
      "image/png": "[encoded data removed]",
      "text/plain": [
       "<Figure size 432x288 with 1 Axes>"
      ]
     },
     "metadata": {
      "needs_background": "light"
     },
     "output_type": "display_data"
    }
   ],
   "source": [
    "plt.hist(norm_values)"
   ]
  },
  {
   "cell_type": "code",
   "execution_count": null,
   "id": "operating-cartoon",
   "metadata": {},
   "outputs": [],
   "source": []
  }
 ],
 "metadata": {
  "kernelspec": {
   "display_name": "Python 3",
   "language": "python",
   "name": "python3"
  },
  "language_info": {
   "codemirror_mode": {
    "name": "ipython",
    "version": 3
   },
   "file_extension": ".py",
   "mimetype": "text/x-python",
   "name": "python",
   "nbconvert_exporter": "python",
   "pygments_lexer": "ipython3",
   "version": "3.7.3"
  }
 },
 "nbformat": 4,
 "nbformat_minor": 5
}
