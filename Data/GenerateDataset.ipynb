{
 "cells": [
  {
   "cell_type": "code",
   "execution_count": 1,
   "metadata": {},
   "outputs": [],
   "source": [
    "import pandas as pd\n",
    "from datetime import datetime"
   ]
  },
  {
   "cell_type": "code",
   "execution_count": 2,
   "metadata": {},
   "outputs": [],
   "source": [
    "final_df = pd.DataFrame(columns=['symbol', 'timestamp', 'value'])"
   ]
  },
  {
   "cell_type": "code",
   "execution_count": 3,
   "metadata": {},
   "outputs": [],
   "source": [
    "symbols = ['ADAUSDT', 'BTCUSDT', 'DASHUSDT', 'ETHUSDT', 'LINKUSDT', 'LTCUSDT', 'NEOUSDT', 'QTUMUSDT', 'TRXUSDT', 'XLMUSDT', 'XMRUSDT', 'XRPUSDT', 'ZECUSDT']"
   ]
  },
  {
   "cell_type": "code",
   "execution_count": 4,
   "metadata": {},
   "outputs": [],
   "source": [
    "for s in symbols:\n",
    "    df = pd.read_csv('HistoricalData/Binance_' + s + '_minute.csv', header=1)\n",
    "    df = df[['symbol', 'date', 'close']]\n",
    "    df['date'] = pd.to_datetime(df['date'])\n",
    "    start_date = datetime.strptime('12-09-2020 00:00:00', '%d-%m-%Y %H:%M:%S')\n",
    "    end_date = datetime.strptime('06-02-2021 00:00:00', '%d-%m-%Y %H:%M:%S')\n",
    "    df = df[(df['date'] > start_date) & (df['date'] < end_date)]\n",
    "    maps = {\n",
    "        \"date\": \"timestamp\",\n",
    "        \"close\": \"value\"\n",
    "    }\n",
    "    df = df.rename(columns = maps)\n",
    "    df = df.sort_values(by='timestamp')\n",
    "    final_df = final_df.append(df, ignore_index=True)"
   ]
  },
  {
   "cell_type": "code",
   "execution_count": 5,
   "metadata": {},
   "outputs": [],
   "source": [
    "final_df.to_csv('../data.csv', index=False)"
   ]
  },
  {
   "cell_type": "code",
   "execution_count": null,
   "metadata": {},
   "outputs": [],
   "source": []
  }
 ],
 "metadata": {
  "kernelspec": {
   "display_name": "Python 3",
   "language": "python",
   "name": "python3"
  },
  "language_info": {
   "codemirror_mode": {
    "name": "ipython",
    "version": 3
   },
   "file_extension": ".py",
   "mimetype": "text/x-python",
   "name": "python",
   "nbconvert_exporter": "python",
   "pygments_lexer": "ipython3",
   "version": "3.7.3"
  }
 },
 "nbformat": 4,
 "nbformat_minor": 2
}
